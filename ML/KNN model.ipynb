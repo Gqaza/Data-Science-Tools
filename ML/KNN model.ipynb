{
 "cells": [
  {
   "cell_type": "code",
   "execution_count": 66,
   "metadata": {
    "collapsed": true
   },
   "outputs": [],
   "source": [
    "from sklearn import datasets\n",
    "import numpy as np"
   ]
  },
  {
   "cell_type": "code",
   "execution_count": 7,
   "metadata": {
    "collapsed": false
   },
   "outputs": [
    {
     "data": {
      "text/plain": [
       "sklearn.datasets.base.Bunch"
      ]
     },
     "execution_count": 7,
     "metadata": {},
     "output_type": "execute_result"
    }
   ],
   "source": [
    "iris = datasets.load_iris()\n",
    "type(iris)"
   ]
  },
  {
   "cell_type": "code",
   "execution_count": 13,
   "metadata": {
    "collapsed": false
   },
   "outputs": [],
   "source": [
    "X=iris.data\n",
    "y=iris.target"
   ]
  },
  {
   "cell_type": "code",
   "execution_count": 33,
   "metadata": {
    "collapsed": false
   },
   "outputs": [
    {
     "data": {
      "text/plain": [
       "array([2, 1])"
      ]
     },
     "execution_count": 33,
     "metadata": {},
     "output_type": "execute_result"
    }
   ],
   "source": [
    "#Import relevent class\n",
    "from sklearn.neighbors import KNeighborsClassifier\n",
    "\n",
    "#Instatiate the estimator\n",
    "knn = KNeighborsClassifier(n_neighbors=1)\n",
    "#Model training step:  Model learns responce between X and y\n",
    "knn.fit(X,y)\n",
    "x_new = [[3,5,4,2],[5,4,3,2]]\n",
    "knn.predict(x_new)"
   ]
  },
  {
   "cell_type": "code",
   "execution_count": 54,
   "metadata": {
    "collapsed": false
   },
   "outputs": [
    {
     "data": {
      "text/plain": [
       "array([1, 1])"
      ]
     },
     "execution_count": 54,
     "metadata": {},
     "output_type": "execute_result"
    }
   ],
   "source": [
    "#Import relevent class\n",
    "from sklearn.neighbors import KNeighborsClassifier\n",
    "\n",
    "def KNN(X,y,x_new,a):\n",
    "    #Instatiate the estimator\n",
    "    knn = KNeighborsClassifier(n_neighbors=a)\n",
    "    #Model training step:  Model learns responce between X and y\n",
    "    knn.fit(X,y)\n",
    "    return knn.predict(x_new)\n",
    "\n",
    "KNN(X,y,x_new,5)"
   ]
  },
  {
   "cell_type": "code",
   "execution_count": 53,
   "metadata": {
    "collapsed": false
   },
   "outputs": [
    {
     "data": {
      "text/plain": [
       "array([2, 0])"
      ]
     },
     "execution_count": 53,
     "metadata": {},
     "output_type": "execute_result"
    }
   ],
   "source": [
    "#Use a different model\n",
    "from sklearn.linear_model import LogisticRegression\n",
    "\n",
    "def LogR(X,y,x_new):\n",
    "    #Instatiate the estimator\n",
    "    logR = LogisticRegression()\n",
    "    #Model training step:  Model learns responce between X and y\n",
    "    logR.fit(X,y)\n",
    "    return logR.predict(x_new)\n",
    "\n",
    "LogR(X,y,x_new)"
   ]
  },
  {
   "cell_type": "markdown",
   "metadata": {},
   "source": [
    "## Model evaluation procedure: Train & test on the entire dataset\n",
    "\n",
    "### Logistic Regression\n",
    "\n"
   ]
  },
  {
   "cell_type": "code",
   "execution_count": 40,
   "metadata": {
    "collapsed": false
   },
   "outputs": [
    {
     "data": {
      "text/plain": [
       "0.95999999999999996"
      ]
     },
     "execution_count": 40,
     "metadata": {},
     "output_type": "execute_result"
    }
   ],
   "source": [
    "#predict for the entire X\n",
    "y_pred = LogR(X)\n",
    "#Check classification accuracy\n",
    "from sklearn import metrics\n",
    "metrics.accuracy_score(y,y_pred) #Training accuracy"
   ]
  },
  {
   "cell_type": "markdown",
   "metadata": {},
   "source": [
    "### KNN model"
   ]
  },
  {
   "cell_type": "code",
   "execution_count": 44,
   "metadata": {
    "collapsed": false
   },
   "outputs": [
    {
     "data": {
      "text/plain": [
       "0.96666666666666667"
      ]
     },
     "execution_count": 44,
     "metadata": {},
     "output_type": "execute_result"
    }
   ],
   "source": [
    "y_pred = KNN(X,5)\n",
    "#Check classification accuracy\n",
    "metrics.accuracy_score(y,y_pred) #Training accuracy"
   ]
  },
  {
   "cell_type": "code",
   "execution_count": 45,
   "metadata": {
    "collapsed": false
   },
   "outputs": [
    {
     "data": {
      "text/plain": [
       "1.0"
      ]
     },
     "execution_count": 45,
     "metadata": {},
     "output_type": "execute_result"
    }
   ],
   "source": [
    "y_pred = KNN(X,1)\n",
    "#Check classification accuracy\n",
    "metrics.accuracy_score(y,y_pred) #Training accuracy"
   ]
  },
  {
   "cell_type": "markdown",
   "metadata": {},
   "source": [
    "# Train test approach\n",
    "\n",
    "- Split the data into training & test.\n",
    "- Train model on traing data.\n",
    "- Test on testing data."
   ]
  },
  {
   "cell_type": "code",
   "execution_count": 130,
   "metadata": {
    "collapsed": true
   },
   "outputs": [],
   "source": [
    "# Split data into training & test\n",
    "from sklearn.cross_validation import train_test_split\n",
    "X_train,X_test,y_train,y_test = train_test_split(X,y,test_size=0.25,random_state=2)"
   ]
  },
  {
   "cell_type": "code",
   "execution_count": 131,
   "metadata": {
    "collapsed": false
   },
   "outputs": [
    {
     "data": {
      "text/plain": [
       "0.92105263157894735"
      ]
     },
     "execution_count": 131,
     "metadata": {},
     "output_type": "execute_result"
    }
   ],
   "source": [
    "y_pred = LogR(X_train,y_train,X_test)\n",
    "metrics.accuracy_score(y_test,y_pred)"
   ]
  },
  {
   "cell_type": "code",
   "execution_count": 57,
   "metadata": {
    "collapsed": false
   },
   "outputs": [
    {
     "data": {
      "text/plain": [
       "0.96666666666666667"
      ]
     },
     "execution_count": 57,
     "metadata": {},
     "output_type": "execute_result"
    }
   ],
   "source": [
    "y_pred = KNN(X_train,y_train,X_test,5)\n",
    "metrics.accuracy_score(y_test,y_pred)"
   ]
  },
  {
   "cell_type": "code",
   "execution_count": 125,
   "metadata": {
    "collapsed": false
   },
   "outputs": [
    {
     "data": {
      "text/plain": [
       "0.95"
      ]
     },
     "execution_count": 125,
     "metadata": {},
     "output_type": "execute_result"
    }
   ],
   "source": [
    "y_pred = KNN(X_train,y_train,X_test,1)\n",
    "round(metrics.accuracy_score(y_test,y_pred),2)"
   ]
  },
  {
   "cell_type": "markdown",
   "metadata": {},
   "source": [
    "Note KNN model with k = 5 is the best model to use in this case.\n",
    "\n",
    "# Plot testing accuracy as a function of complexity (i.e. k-values)\n"
   ]
  },
  {
   "cell_type": "code",
   "execution_count": 63,
   "metadata": {
    "collapsed": false
   },
   "outputs": [
    {
     "data": {
      "image/png": "[encoded data removed]",
      "text/plain": [
       "<matplotlib.figure.Figure at 0x11b601690>"
      ]
     },
     "metadata": {},
     "output_type": "display_data"
    }
   ],
   "source": [
    "K = []\n",
    "Test_accuracy = []\n",
    "for k in range(1,25):\n",
    "    K.append(k)\n",
    "    y_pred = KNN(X_train,y_train,X_test,k)\n",
    "    test_accuracy = metrics.accuracy_score(y_test,y_pred)\n",
    "    Test_accuracy.append(test_accuracy)\n",
    "    \n",
    "plt.plot(K,Test_accuracy,'b-')\n",
    "plt.xlabel('K-values')\n",
    "plt.ylabel('Testing accuracy (%)')\n",
    "plt.ylim()\n",
    "plt.show()"
   ]
  },
  {
   "cell_type": "code",
   "execution_count": 119,
   "metadata": {
    "collapsed": false
   },
   "outputs": [],
   "source": [
    "Max = np.where(Test_accuracy==max(Test_accuracy))[0]\n",
    "shape = len(Max)\n",
    "if shape%2 == 0:\n",
    "    j = int(shape/2.) - 1\n",
    "else:\n",
    "    j = int((shape-1)/2.) # Note on principle we should add 1 but python counts from 0\n",
    "i = Max[j]\n",
    "k_final = K[i]   # This the k-th value to use"
   ]
  },
  {
   "cell_type": "markdown",
   "metadata": {},
   "source": [
    "#  Train the model on the entire data"
   ]
  },
  {
   "cell_type": "code",
   "execution_count": 124,
   "metadata": {
    "collapsed": false
   },
   "outputs": [
    {
     "name": "stderr",
     "output_type": "stream",
     "text": [
      "/Users/themba/anaconda2/lib/python2.7/site-packages/sklearn/utils/validation.py:395: DeprecationWarning: Passing 1d arrays as data is deprecated in 0.17 and will raise ValueError in 0.19. Reshape your data either using X.reshape(-1, 1) if your data has a single feature or X.reshape(1, -1) if it contains a single sample.\n",
      "  DeprecationWarning)\n"
     ]
    },
    {
     "data": {
      "text/plain": [
       "array([1])"
      ]
     },
     "execution_count": 124,
     "metadata": {},
     "output_type": "execute_result"
    }
   ],
   "source": [
    "knn = KNeighborsClassifier(n_neighbors=k_final)\n",
    "knn.fit(X,y)\n",
    "knn.predict([3,5,4,2])"
   ]
  },
  {
   "cell_type": "code",
   "execution_count": null,
   "metadata": {
    "collapsed": true
   },
   "outputs": [],
   "source": []
  }
 ],
 "metadata": {
  "kernelspec": {
   "display_name": "Python [default]",
   "language": "python",
   "name": "python2"
  },
  "language_info": {
   "codemirror_mode": {
    "name": "ipython",
    "version": 2
   },
   "file_extension": ".py",
   "mimetype": "text/x-python",
   "name": "python",
   "nbconvert_exporter": "python",
   "pygments_lexer": "ipython2",
   "version": "2.7.13"
  }
 },
 "nbformat": 4,
 "nbformat_minor": 2
}
